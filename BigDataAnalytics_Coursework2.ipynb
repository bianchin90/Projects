{
  "nbformat": 4,
  "nbformat_minor": 0,
  "metadata": {
    "colab": {
      "name": "BigDataAnalytics_Coursework2.ipynb",
      "provenance": [],
      "collapsed_sections": [],
      "authorship_tag": "ABX9TyOBaFxNQrMgL3UmYGDb6CTX",
      "include_colab_link": true
    },
    "kernelspec": {
      "name": "python3",
      "display_name": "Python 3"
    },
    "language_info": {
      "name": "python"
    }
  },
  "cells": [
    {
      "cell_type": "markdown",
      "metadata": {
        "id": "view-in-github",
        "colab_type": "text"
      },
      "source": [
        "<a href=\"https://colab.research.google.com/github/bianchin90/Projects/blob/master/BigDataAnalytics_Coursework2.ipynb\" target=\"_parent\"><img src=\"https://colab.research.google.com/assets/colab-badge.svg\" alt=\"Open In Colab\"/></a>"
      ]
    },
    {
      "cell_type": "code",
      "metadata": {
        "colab": {
          "base_uri": "https://localhost:8080/",
          "height": 514
        },
        "id": "sId5Lm9Q-LSD",
        "outputId": "23db5665-bddf-4222-efdf-cda2e07f97a5"
      },
      "source": [
        "import pandas as pd\n",
        "url = \"https://raw.githubusercontent.com/bianchin90/Projects/master/sentiment_analysis_output\"\n",
        "df = pd.read_csv(url, sep=\"\\t\", error_bad_lines=False)\n",
        "#df_full = df\n",
        "df.head(15)"
      ],
      "execution_count": 2,
      "outputs": [
        {
          "output_type": "execute_result",
          "data": {
            "text/html": [
              "<div>\n",
              "<style scoped>\n",
              "    .dataframe tbody tr th:only-of-type {\n",
              "        vertical-align: middle;\n",
              "    }\n",
              "\n",
              "    .dataframe tbody tr th {\n",
              "        vertical-align: top;\n",
              "    }\n",
              "\n",
              "    .dataframe thead th {\n",
              "        text-align: right;\n",
              "    }\n",
              "</style>\n",
              "<table border=\"1\" class=\"dataframe\">\n",
              "  <thead>\n",
              "    <tr style=\"text-align: right;\">\n",
              "      <th></th>\n",
              "      <th>review_id</th>\n",
              "      <th>product_id</th>\n",
              "      <th>star_rating</th>\n",
              "      <th>sentiment_rating</th>\n",
              "    </tr>\n",
              "  </thead>\n",
              "  <tbody>\n",
              "    <tr>\n",
              "      <th>0</th>\n",
              "      <td>R4BTHIUOEK1</td>\n",
              "      <td>B00D0XEBV8</td>\n",
              "      <td>5</td>\n",
              "      <td>4.062500</td>\n",
              "    </tr>\n",
              "    <tr>\n",
              "      <th>1</th>\n",
              "      <td>R56O68TYZNS</td>\n",
              "      <td>B002MWYUFU</td>\n",
              "      <td>4</td>\n",
              "      <td>2.812500</td>\n",
              "    </tr>\n",
              "    <tr>\n",
              "      <th>2</th>\n",
              "      <td>R8JDR5Z7YZQ</td>\n",
              "      <td>B002WC58GK</td>\n",
              "      <td>3</td>\n",
              "      <td>3.125000</td>\n",
              "    </tr>\n",
              "    <tr>\n",
              "      <th>3</th>\n",
              "      <td>RD8IZCSG531</td>\n",
              "      <td>B00IS5E0XM</td>\n",
              "      <td>1</td>\n",
              "      <td>2.734375</td>\n",
              "    </tr>\n",
              "    <tr>\n",
              "      <th>4</th>\n",
              "      <td>RDFBKAUULDZ</td>\n",
              "      <td>B008AZ7HS0</td>\n",
              "      <td>5</td>\n",
              "      <td>3.625000</td>\n",
              "    </tr>\n",
              "    <tr>\n",
              "      <th>5</th>\n",
              "      <td>RDTXAF5CBDB</td>\n",
              "      <td>B00B0AL2VA</td>\n",
              "      <td>5</td>\n",
              "      <td>3.593750</td>\n",
              "    </tr>\n",
              "    <tr>\n",
              "      <th>6</th>\n",
              "      <td>RDVABA1XKXC</td>\n",
              "      <td>B000EEBUW4</td>\n",
              "      <td>4</td>\n",
              "      <td>2.500000</td>\n",
              "    </tr>\n",
              "    <tr>\n",
              "      <th>7</th>\n",
              "      <td>RE5SCQCSZ1P</td>\n",
              "      <td>B002LTQFUM</td>\n",
              "      <td>2</td>\n",
              "      <td>1.875000</td>\n",
              "    </tr>\n",
              "    <tr>\n",
              "      <th>8</th>\n",
              "      <td>RI7EYPDEKED</td>\n",
              "      <td>B0052RMI2Y</td>\n",
              "      <td>2</td>\n",
              "      <td>3.750000</td>\n",
              "    </tr>\n",
              "    <tr>\n",
              "      <th>9</th>\n",
              "      <td>RIVE71W7OJ6</td>\n",
              "      <td>B00QK6F67K</td>\n",
              "      <td>3</td>\n",
              "      <td>2.812500</td>\n",
              "    </tr>\n",
              "    <tr>\n",
              "      <th>10</th>\n",
              "      <td>RK6TCR2AK6H</td>\n",
              "      <td>B00C9B32J4</td>\n",
              "      <td>4</td>\n",
              "      <td>3.928571</td>\n",
              "    </tr>\n",
              "    <tr>\n",
              "      <th>11</th>\n",
              "      <td>RMFSJIXHC55</td>\n",
              "      <td>B003HEE20U</td>\n",
              "      <td>1</td>\n",
              "      <td>4.062500</td>\n",
              "    </tr>\n",
              "    <tr>\n",
              "      <th>12</th>\n",
              "      <td>RMQK2OERM6Z</td>\n",
              "      <td>B004MD0ESY</td>\n",
              "      <td>5</td>\n",
              "      <td>3.333333</td>\n",
              "    </tr>\n",
              "    <tr>\n",
              "      <th>13</th>\n",
              "      <td>ROHBAT19YIH</td>\n",
              "      <td>B001N1HMTC</td>\n",
              "      <td>5</td>\n",
              "      <td>3.593750</td>\n",
              "    </tr>\n",
              "    <tr>\n",
              "      <th>14</th>\n",
              "      <td>RPOAKP87VXP</td>\n",
              "      <td>B00IH4R306</td>\n",
              "      <td>5</td>\n",
              "      <td>4.375000</td>\n",
              "    </tr>\n",
              "  </tbody>\n",
              "</table>\n",
              "</div>"
            ],
            "text/plain": [
              "      review_id  product_id  star_rating  sentiment_rating\n",
              "0   R4BTHIUOEK1  B00D0XEBV8            5          4.062500\n",
              "1   R56O68TYZNS  B002MWYUFU            4          2.812500\n",
              "2   R8JDR5Z7YZQ  B002WC58GK            3          3.125000\n",
              "3   RD8IZCSG531  B00IS5E0XM            1          2.734375\n",
              "4   RDFBKAUULDZ  B008AZ7HS0            5          3.625000\n",
              "5   RDTXAF5CBDB  B00B0AL2VA            5          3.593750\n",
              "6   RDVABA1XKXC  B000EEBUW4            4          2.500000\n",
              "7   RE5SCQCSZ1P  B002LTQFUM            2          1.875000\n",
              "8   RI7EYPDEKED  B0052RMI2Y            2          3.750000\n",
              "9   RIVE71W7OJ6  B00QK6F67K            3          2.812500\n",
              "10  RK6TCR2AK6H  B00C9B32J4            4          3.928571\n",
              "11  RMFSJIXHC55  B003HEE20U            1          4.062500\n",
              "12  RMQK2OERM6Z  B004MD0ESY            5          3.333333\n",
              "13  ROHBAT19YIH  B001N1HMTC            5          3.593750\n",
              "14  RPOAKP87VXP  B00IH4R306            5          4.375000"
            ]
          },
          "metadata": {
            "tags": []
          },
          "execution_count": 2
        }
      ]
    },
    {
      "cell_type": "code",
      "metadata": {
        "colab": {
          "base_uri": "https://localhost:8080/",
          "height": 705
        },
        "id": "eltPCwd_Bs9_",
        "outputId": "45569689-34a2-4450-b764-78e32984a7f3"
      },
      "source": [
        "###TEST FOR CORRELATION LINE\n",
        "import matplotlib.pyplot as plt\n",
        "from google.colab import files\n",
        "from scipy import stats\n",
        "import numpy as np\n",
        "\n",
        "#plot results\n",
        "#scatter = df.plot(x='sentiment_rating', y='star_rating', style='o', grid = True, legend=False, figsize=(12,10))\n",
        "x=df['sentiment_rating']\n",
        "y=df['star_rating']\n",
        "m, b = np.polyfit(x, y, 1)\n",
        "plt.figure(figsize=(12,10))\n",
        "plt.scatter(x, y) \n",
        "plt.title('Correlation between star rating and reviews sentiment analysis\\n', fontsize=20)\n",
        "plt.xlabel('Sentiment Analysis Rating', fontsize=16)\n",
        "plt.ylabel('Amazon Star Rating', fontsize=16)\n",
        "plt.grid()\n",
        "\n",
        "cor = stats.pearsonr(df[\"star_rating\"], df[\"sentiment_rating\"])[0]\n",
        "plt.plot(np.unique(x), np.poly1d(np.polyfit(x, y, cor))(np.unique(x)), color='orange')\n",
        "plt.show()\n",
        "\n",
        "#scatter.set_xlabel(\"Sentiment Analysis Rating\")\n",
        "#scatter.set_ylabel(\"Amazon Star Rating\")\n",
        "\n",
        "\n",
        "#compute pearson correlation\n",
        "print(\"\\n\\tPearson correlation: {0}\".format(stats.pearsonr(df[\"star_rating\"], df[\"sentiment_rating\"])[0]))\n",
        "\n",
        "df['difference'] = df['star_rating'] - df['sentiment_rating']\n",
        "\n",
        "ok = df[(df['difference'] <= 1) & (df['difference'] >= -1)]\n",
        "good_records = ok.shape[0]\n",
        "total_records = df.shape[0]\n",
        "\n",
        "print('\\trecords acceptable (max Delta ±1): {0} out of {1} ({2}%)'.format(good_records, total_records, round((good_records/total_records), 2)*100))\n",
        "\n",
        "df['acceptable'] = 'No'\n",
        "df.loc[((df['difference'] <= 1) & (df['difference'] >= -1)),'acceptable']='Yes'\n",
        "\n",
        "\n",
        "\n",
        "#df.head(20)\n",
        "\n",
        "#df.to_csv('NLP_result.txt', sep='\\t' ,header=True, index = False)\n",
        "#files.download(\"NLP_result.txt\")"
      ],
      "execution_count": 3,
      "outputs": [
        {
          "output_type": "display_data",
          "data": {
            "image/png": "[encoded data removed]",
            "text/plain": [
              "<Figure size 864x720 with 1 Axes>"
            ]
          },
          "metadata": {
            "tags": [],
            "needs_background": "light"
          }
        },
        {
          "output_type": "stream",
          "text": [
            "\n",
            "\tPearson correlation: 0.4164092657203107\n",
            "\trecords acceptable (max Delta ±1): 38822 out of 87529 (44.0%)\n"
          ],
          "name": "stdout"
        }
      ]
    }
  ]
}