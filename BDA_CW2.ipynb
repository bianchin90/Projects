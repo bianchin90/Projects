{
  "nbformat": 4,
  "nbformat_minor": 0,
  "metadata": {
    "colab": {
      "name": "BDA_CW2.ipynb",
      "provenance": [],
      "collapsed_sections": [],
      "authorship_tag": "ABX9TyO70mMFe8N2Csq7WpTihgPC",
      "include_colab_link": true
    },
    "kernelspec": {
      "name": "python3",
      "display_name": "Python 3"
    },
    "language_info": {
      "name": "python"
    }
  },
  "cells": [
    {
      "cell_type": "markdown",
      "metadata": {
        "id": "view-in-github",
        "colab_type": "text"
      },
      "source": [
        "<a href=\"https://colab.research.google.com/github/bianchin90/Projects/blob/master/BDA_CW2.ipynb\" target=\"_parent\"><img src=\"https://colab.research.google.com/assets/colab-badge.svg\" alt=\"Open In Colab\"/></a>"
      ]
    },
    {
      "cell_type": "code",
      "metadata": {
        "colab": {
          "base_uri": "https://localhost:8080/"
        },
        "cellView": "code",
        "id": "CfopHMTsT8bX",
        "outputId": "d05e8027-0f0b-44b1-a028-1eceba7de27a"
      },
      "source": [
        "#@title Default title text\n",
        "#download file \n",
        "!wget https://s3.amazonaws.com/amazon-reviews-pds/tsv/amazon_reviews_us_Mobile_Electronics_v1_00.tsv.gz\n",
        "\n",
        "\n"
      ],
      "execution_count": 1,
      "outputs": [
        {
          "output_type": "stream",
          "text": [
            "--2021-04-17 07:27:47--  https://s3.amazonaws.com/amazon-reviews-pds/tsv/amazon_reviews_us_Mobile_Electronics_v1_00.tsv.gz\n",
            "Resolving s3.amazonaws.com (s3.amazonaws.com)... 52.216.130.253\n",
            "Connecting to s3.amazonaws.com (s3.amazonaws.com)|52.216.130.253|:443... connected.\n",
            "HTTP request sent, awaiting response... 200 OK\n",
            "Length: 22870508 (22M) [application/x-gzip]\n",
            "Saving to: ‘amazon_reviews_us_Mobile_Electronics_v1_00.tsv.gz’\n",
            "\n",
            "amazon_reviews_us_M 100%[===================>]  21.81M  16.9MB/s    in 1.3s    \n",
            "\n",
            "2021-04-17 07:27:49 (16.9 MB/s) - ‘amazon_reviews_us_Mobile_Electronics_v1_00.tsv.gz’ saved [22870508/22870508]\n",
            "\n"
          ],
          "name": "stdout"
        }
      ]
    },
    {
      "cell_type": "code",
      "metadata": {
        "id": "88Jsff2qWcQK"
      },
      "source": [
        "import gzip\n",
        "import shutil\n",
        "with gzip.open('amazon_reviews_us_Mobile_Electronics_v1_00.tsv.gz', 'rb') as f_in:\n",
        "    with open('amazon_reviews_us_Mobile_Electronics_v1_00.tsv', 'wb') as f_out:\n",
        "        shutil.copyfileobj(f_in, f_out)"
      ],
      "execution_count": 2,
      "outputs": []
    },
    {
      "cell_type": "code",
      "metadata": {
        "colab": {
          "base_uri": "https://localhost:8080/",
          "height": 408
        },
        "id": "EKa9gHPcVLG3",
        "outputId": "3871e372-dffc-45d5-ce41-fe86322a5a77"
      },
      "source": [
        "#read amazon reviews dataset\n",
        "import pandas as pd\n",
        "df = pd.read_csv(\"amazon_reviews_us_Mobile_Electronics_v1_00.tsv\",sep=\"\\t\", error_bad_lines=False)\n",
        "df_full = df\n",
        "df.head()\n"
      ],
      "execution_count": 3,
      "outputs": [
        {
          "output_type": "stream",
          "text": [
            "b'Skipping line 35246: expected 15 fields, saw 22\\n'\n",
            "b'Skipping line 87073: expected 15 fields, saw 22\\n'\n"
          ],
          "name": "stderr"
        },
        {
          "output_type": "execute_result",
          "data": {
            "text/html": [
              "<div>\n",
              "<style scoped>\n",
              "    .dataframe tbody tr th:only-of-type {\n",
              "        vertical-align: middle;\n",
              "    }\n",
              "\n",
              "    .dataframe tbody tr th {\n",
              "        vertical-align: top;\n",
              "    }\n",
              "\n",
              "    .dataframe thead th {\n",
              "        text-align: right;\n",
              "    }\n",
              "</style>\n",
              "<table border=\"1\" class=\"dataframe\">\n",
              "  <thead>\n",
              "    <tr style=\"text-align: right;\">\n",
              "      <th></th>\n",
              "      <th>marketplace</th>\n",
              "      <th>customer_id</th>\n",
              "      <th>review_id</th>\n",
              "      <th>product_id</th>\n",
              "      <th>product_parent</th>\n",
              "      <th>product_title</th>\n",
              "      <th>product_category</th>\n",
              "      <th>star_rating</th>\n",
              "      <th>helpful_votes</th>\n",
              "      <th>total_votes</th>\n",
              "      <th>vine</th>\n",
              "      <th>verified_purchase</th>\n",
              "      <th>review_headline</th>\n",
              "      <th>review_body</th>\n",
              "      <th>review_date</th>\n",
              "    </tr>\n",
              "  </thead>\n",
              "  <tbody>\n",
              "    <tr>\n",
              "      <th>0</th>\n",
              "      <td>US</td>\n",
              "      <td>20422322</td>\n",
              "      <td>R8MEA6IGAHO0B</td>\n",
              "      <td>B00MC4CED8</td>\n",
              "      <td>217304173</td>\n",
              "      <td>BlackVue DR600GW-PMP</td>\n",
              "      <td>Mobile_Electronics</td>\n",
              "      <td>5.0</td>\n",
              "      <td>0.0</td>\n",
              "      <td>0.0</td>\n",
              "      <td>N</td>\n",
              "      <td>Y</td>\n",
              "      <td>Very Happy!</td>\n",
              "      <td>As advertised. Everything works perfectly, I'm...</td>\n",
              "      <td>2015-08-31</td>\n",
              "    </tr>\n",
              "    <tr>\n",
              "      <th>1</th>\n",
              "      <td>US</td>\n",
              "      <td>40835037</td>\n",
              "      <td>R31LOQ8JGLPRLK</td>\n",
              "      <td>B00OQMFG1Q</td>\n",
              "      <td>137313254</td>\n",
              "      <td>GENSSI GSM / GPS Two Way Smart Phone Car Alarm...</td>\n",
              "      <td>Mobile_Electronics</td>\n",
              "      <td>5.0</td>\n",
              "      <td>0.0</td>\n",
              "      <td>1.0</td>\n",
              "      <td>N</td>\n",
              "      <td>Y</td>\n",
              "      <td>five star</td>\n",
              "      <td>it's great</td>\n",
              "      <td>2015-08-31</td>\n",
              "    </tr>\n",
              "    <tr>\n",
              "      <th>2</th>\n",
              "      <td>US</td>\n",
              "      <td>51469641</td>\n",
              "      <td>R2Y0MM9YE6OP3P</td>\n",
              "      <td>B00QERR5CY</td>\n",
              "      <td>82850235</td>\n",
              "      <td>iXCC Multi pack Lightning cable</td>\n",
              "      <td>Mobile_Electronics</td>\n",
              "      <td>5.0</td>\n",
              "      <td>0.0</td>\n",
              "      <td>0.0</td>\n",
              "      <td>N</td>\n",
              "      <td>Y</td>\n",
              "      <td>great cables</td>\n",
              "      <td>These work great and fit my life proof case fo...</td>\n",
              "      <td>2015-08-31</td>\n",
              "    </tr>\n",
              "    <tr>\n",
              "      <th>3</th>\n",
              "      <td>US</td>\n",
              "      <td>4332923</td>\n",
              "      <td>RRB9C05HDOD4O</td>\n",
              "      <td>B00QUFTPV4</td>\n",
              "      <td>221169481</td>\n",
              "      <td>abcGoodefg® FBI Covert Acoustic Tube Earpiece ...</td>\n",
              "      <td>Mobile_Electronics</td>\n",
              "      <td>4.0</td>\n",
              "      <td>0.0</td>\n",
              "      <td>0.0</td>\n",
              "      <td>N</td>\n",
              "      <td>Y</td>\n",
              "      <td>Work very well but couldn't get used to not he...</td>\n",
              "      <td>Work very well but couldn't get used to not he...</td>\n",
              "      <td>2015-08-31</td>\n",
              "    </tr>\n",
              "    <tr>\n",
              "      <th>4</th>\n",
              "      <td>US</td>\n",
              "      <td>44855305</td>\n",
              "      <td>R26I2RI1GFV8QG</td>\n",
              "      <td>B0067XVNTG</td>\n",
              "      <td>563475445</td>\n",
              "      <td>Generic Car Dashboard Video Camera Vehicle Vid...</td>\n",
              "      <td>Mobile_Electronics</td>\n",
              "      <td>2.0</td>\n",
              "      <td>0.0</td>\n",
              "      <td>0.0</td>\n",
              "      <td>N</td>\n",
              "      <td>Y</td>\n",
              "      <td>Cameras has battery issues</td>\n",
              "      <td>Be careful with these products, I have bought ...</td>\n",
              "      <td>2015-08-31</td>\n",
              "    </tr>\n",
              "  </tbody>\n",
              "</table>\n",
              "</div>"
            ],
            "text/plain": [
              "  marketplace  ...  review_date\n",
              "0          US  ...   2015-08-31\n",
              "1          US  ...   2015-08-31\n",
              "2          US  ...   2015-08-31\n",
              "3          US  ...   2015-08-31\n",
              "4          US  ...   2015-08-31\n",
              "\n",
              "[5 rows x 15 columns]"
            ]
          },
          "metadata": {
            "tags": []
          },
          "execution_count": 3
        }
      ]
    },
    {
      "cell_type": "code",
      "metadata": {
        "colab": {
          "base_uri": "https://localhost:8080/"
        },
        "id": "0xDFxdgaZqHq",
        "outputId": "478a5c77-4802-4e9b-9fbe-6168b08d9af2"
      },
      "source": [
        "#download sentiment analysis\n",
        "!wget https://www2.imm.dtu.dk/pubdb/views/edoc_download.php/6010/zip/imm6010.zip\n",
        "\n",
        "import zipfile\n",
        "with zipfile.ZipFile(\"imm6010.zip\", 'r') as zip_ref:\n",
        "    zip_ref.extractall()"
      ],
      "execution_count": 4,
      "outputs": [
        {
          "output_type": "stream",
          "text": [
            "--2021-04-17 07:28:11--  https://www2.imm.dtu.dk/pubdb/views/edoc_download.php/6010/zip/imm6010.zip\n",
            "Resolving www2.imm.dtu.dk (www2.imm.dtu.dk)... 130.225.68.4\n",
            "Connecting to www2.imm.dtu.dk (www2.imm.dtu.dk)|130.225.68.4|:443... connected.\n",
            "HTTP request sent, awaiting response... 301 Moved Permanently\n",
            "Location: https://www2.imm.dtu.dk/pubdb/edoc/imm6010.zip [following]\n",
            "--2021-04-17 07:28:11--  https://www2.imm.dtu.dk/pubdb/edoc/imm6010.zip\n",
            "Reusing existing connection to www2.imm.dtu.dk:443.\n",
            "HTTP request sent, awaiting response... 200 OK\n",
            "Length: 16227 (16K) [application/zip]\n",
            "Saving to: ‘imm6010.zip’\n",
            "\n",
            "\rimm6010.zip           0%[                    ]       0  --.-KB/s               \rimm6010.zip         100%[===================>]  15.85K  --.-KB/s    in 0.03s   \n",
            "\n",
            "2021-04-17 07:28:11 (609 KB/s) - ‘imm6010.zip’ saved [16227/16227]\n",
            "\n"
          ],
          "name": "stdout"
        }
      ]
    },
    {
      "cell_type": "code",
      "metadata": {
        "id": "toYNQ5VkalOA"
      },
      "source": [
        "#read AFINN-111\n",
        "afinn = pd.read_csv(\"AFINN/AFINN-111.txt\",sep=\"\\t\", error_bad_lines=False, header = None, names = [\"word\", \"rate\"])\n",
        "afinn.head()\n",
        "\n",
        "#cast afinn to dictionary\n",
        "afinn_dict = dict(zip(afinn.word, afinn.rate))\n"
      ],
      "execution_count": 5,
      "outputs": []
    },
    {
      "cell_type": "code",
      "metadata": {
        "colab": {
          "base_uri": "https://localhost:8080/",
          "height": 547
        },
        "id": "QBch597zdiUN",
        "outputId": "f59926fd-1478-4e0e-fe40-b82494f5cb3c"
      },
      "source": [
        "#core of the script: sentiment analysis\n",
        "import numpy as np\n",
        "\n",
        "\n",
        "#add two new columns to amazon dataframe: number of matched words with afinn dataset and sum of afinn ratings for matched words \n",
        "df[\"matched\"] = np.nan\n",
        "df[\"matched_rate\"] = np.nan\n",
        "\n",
        "for index, row in df.iterrows():\n",
        "    #create tokenized words\n",
        "    try:\n",
        "      #split review body into single tokens\n",
        "      tokens = row[\"review_body\"].lower().replace('.', '').split(' ')\n",
        "      counter = 0\n",
        "      afinn_rate = 0\n",
        "\n",
        "      for elem in tokens :      \n",
        "        try :\n",
        "          #look for review word in afinn dataset\n",
        "          afinn_rate += afinn_dict[elem]\n",
        "          #if there is a match, increase counter by one\n",
        "          counter += 1\n",
        "        except KeyError: \n",
        "          l = 0\n",
        "      #update values for that record \n",
        "      df.at[index,'matched'] = counter\n",
        "      df.at[index,'matched_rate'] = afinn_rate\n",
        "    \n",
        "    except AttributeError:\n",
        "      m = 0\n",
        "\n",
        "df.head()"
      ],
      "execution_count": 6,
      "outputs": [
        {
          "output_type": "execute_result",
          "data": {
            "text/html": [
              "<div>\n",
              "<style scoped>\n",
              "    .dataframe tbody tr th:only-of-type {\n",
              "        vertical-align: middle;\n",
              "    }\n",
              "\n",
              "    .dataframe tbody tr th {\n",
              "        vertical-align: top;\n",
              "    }\n",
              "\n",
              "    .dataframe thead th {\n",
              "        text-align: right;\n",
              "    }\n",
              "</style>\n",
              "<table border=\"1\" class=\"dataframe\">\n",
              "  <thead>\n",
              "    <tr style=\"text-align: right;\">\n",
              "      <th></th>\n",
              "      <th>marketplace</th>\n",
              "      <th>customer_id</th>\n",
              "      <th>review_id</th>\n",
              "      <th>product_id</th>\n",
              "      <th>product_parent</th>\n",
              "      <th>product_title</th>\n",
              "      <th>product_category</th>\n",
              "      <th>star_rating</th>\n",
              "      <th>helpful_votes</th>\n",
              "      <th>total_votes</th>\n",
              "      <th>vine</th>\n",
              "      <th>verified_purchase</th>\n",
              "      <th>review_headline</th>\n",
              "      <th>review_body</th>\n",
              "      <th>review_date</th>\n",
              "      <th>matched</th>\n",
              "      <th>matched_rate</th>\n",
              "    </tr>\n",
              "  </thead>\n",
              "  <tbody>\n",
              "    <tr>\n",
              "      <th>0</th>\n",
              "      <td>US</td>\n",
              "      <td>20422322</td>\n",
              "      <td>R8MEA6IGAHO0B</td>\n",
              "      <td>B00MC4CED8</td>\n",
              "      <td>217304173</td>\n",
              "      <td>BlackVue DR600GW-PMP</td>\n",
              "      <td>Mobile_Electronics</td>\n",
              "      <td>5.0</td>\n",
              "      <td>0.0</td>\n",
              "      <td>0.0</td>\n",
              "      <td>N</td>\n",
              "      <td>Y</td>\n",
              "      <td>Very Happy!</td>\n",
              "      <td>As advertised. Everything works perfectly, I'm...</td>\n",
              "      <td>2015-08-31</td>\n",
              "      <td>2.0</td>\n",
              "      <td>4.0</td>\n",
              "    </tr>\n",
              "    <tr>\n",
              "      <th>1</th>\n",
              "      <td>US</td>\n",
              "      <td>40835037</td>\n",
              "      <td>R31LOQ8JGLPRLK</td>\n",
              "      <td>B00OQMFG1Q</td>\n",
              "      <td>137313254</td>\n",
              "      <td>GENSSI GSM / GPS Two Way Smart Phone Car Alarm...</td>\n",
              "      <td>Mobile_Electronics</td>\n",
              "      <td>5.0</td>\n",
              "      <td>0.0</td>\n",
              "      <td>1.0</td>\n",
              "      <td>N</td>\n",
              "      <td>Y</td>\n",
              "      <td>five star</td>\n",
              "      <td>it's great</td>\n",
              "      <td>2015-08-31</td>\n",
              "      <td>1.0</td>\n",
              "      <td>3.0</td>\n",
              "    </tr>\n",
              "    <tr>\n",
              "      <th>2</th>\n",
              "      <td>US</td>\n",
              "      <td>51469641</td>\n",
              "      <td>R2Y0MM9YE6OP3P</td>\n",
              "      <td>B00QERR5CY</td>\n",
              "      <td>82850235</td>\n",
              "      <td>iXCC Multi pack Lightning cable</td>\n",
              "      <td>Mobile_Electronics</td>\n",
              "      <td>5.0</td>\n",
              "      <td>0.0</td>\n",
              "      <td>0.0</td>\n",
              "      <td>N</td>\n",
              "      <td>Y</td>\n",
              "      <td>great cables</td>\n",
              "      <td>These work great and fit my life proof case fo...</td>\n",
              "      <td>2015-08-31</td>\n",
              "      <td>2.0</td>\n",
              "      <td>4.0</td>\n",
              "    </tr>\n",
              "    <tr>\n",
              "      <th>3</th>\n",
              "      <td>US</td>\n",
              "      <td>4332923</td>\n",
              "      <td>RRB9C05HDOD4O</td>\n",
              "      <td>B00QUFTPV4</td>\n",
              "      <td>221169481</td>\n",
              "      <td>abcGoodefg® FBI Covert Acoustic Tube Earpiece ...</td>\n",
              "      <td>Mobile_Electronics</td>\n",
              "      <td>4.0</td>\n",
              "      <td>0.0</td>\n",
              "      <td>0.0</td>\n",
              "      <td>N</td>\n",
              "      <td>Y</td>\n",
              "      <td>Work very well but couldn't get used to not he...</td>\n",
              "      <td>Work very well but couldn't get used to not he...</td>\n",
              "      <td>2015-08-31</td>\n",
              "      <td>0.0</td>\n",
              "      <td>0.0</td>\n",
              "    </tr>\n",
              "    <tr>\n",
              "      <th>4</th>\n",
              "      <td>US</td>\n",
              "      <td>44855305</td>\n",
              "      <td>R26I2RI1GFV8QG</td>\n",
              "      <td>B0067XVNTG</td>\n",
              "      <td>563475445</td>\n",
              "      <td>Generic Car Dashboard Video Camera Vehicle Vid...</td>\n",
              "      <td>Mobile_Electronics</td>\n",
              "      <td>2.0</td>\n",
              "      <td>0.0</td>\n",
              "      <td>0.0</td>\n",
              "      <td>N</td>\n",
              "      <td>Y</td>\n",
              "      <td>Cameras has battery issues</td>\n",
              "      <td>Be careful with these products, I have bought ...</td>\n",
              "      <td>2015-08-31</td>\n",
              "      <td>2.0</td>\n",
              "      <td>3.0</td>\n",
              "    </tr>\n",
              "  </tbody>\n",
              "</table>\n",
              "</div>"
            ],
            "text/plain": [
              "  marketplace  customer_id       review_id  ... review_date  matched matched_rate\n",
              "0          US     20422322   R8MEA6IGAHO0B  ...  2015-08-31      2.0          4.0\n",
              "1          US     40835037  R31LOQ8JGLPRLK  ...  2015-08-31      1.0          3.0\n",
              "2          US     51469641  R2Y0MM9YE6OP3P  ...  2015-08-31      2.0          4.0\n",
              "3          US      4332923   RRB9C05HDOD4O  ...  2015-08-31      0.0          0.0\n",
              "4          US     44855305  R26I2RI1GFV8QG  ...  2015-08-31      2.0          3.0\n",
              "\n",
              "[5 rows x 17 columns]"
            ]
          },
          "metadata": {
            "tags": []
          },
          "execution_count": 6
        }
      ]
    },
    {
      "cell_type": "code",
      "metadata": {
        "colab": {
          "base_uri": "https://localhost:8080/",
          "height": 892
        },
        "id": "8Yk4YhVsFaeB",
        "outputId": "063f79ef-9249-4cb5-d0cb-540b2eb7d224"
      },
      "source": [
        "###PLOT RESULTS\n",
        "import matplotlib.pyplot as plt\n",
        "from google.colab import files\n",
        "from scipy import stats\n",
        "#compute sentiment analysis rating as  matched_rate / number of matched words\n",
        "df[\"avg_matched\"] = df[\"matched_rate\"] / df[\"matched\"]\n",
        "\n",
        "df = df.dropna()\n",
        "\n",
        "#rescale afinn rating in range 1-5 (originally it was between -4 and +4)\n",
        "from sklearn.preprocessing import MinMaxScaler\n",
        "scaler = MinMaxScaler((1, 5))\n",
        "df[\"avg_matched\"] = scaler.fit_transform(df[[\"avg_matched\"]])\n",
        "\n",
        "#plot results\n",
        "#scatter = df.plot(x='avg_matched', y='star_rating', style='o', grid = True, legend=False, figsize=(12,10))\n",
        "x=df['avg_matched']\n",
        "y=df['star_rating']\n",
        "m, b = np.polyfit(x, y, 1)\n",
        "plt.figure(figsize=(12,10))\n",
        "plt.scatter(x, y) \n",
        "plt.title('Correlation between star rating and reviews sentiment analysis\\n', fontsize=20)\n",
        "plt.xlabel('Sentiment Analysis Rating', fontsize=16)\n",
        "plt.ylabel('Amazon Star Rating', fontsize=16)\n",
        "plt.grid()\n",
        "\n",
        "cor = stats.pearsonr(df[\"star_rating\"], df[\"avg_matched\"])[0]\n",
        "plt.plot(np.unique(x), np.poly1d(np.polyfit(x, y, cor))(np.unique(x)), color='orange')\n",
        "plt.show()\n",
        "\n",
        "#compute pearson correlation\n",
        "print(\"\\n\\tPearson correlation: {0}\".format(stats.pearsonr(df[\"star_rating\"], df[\"avg_matched\"])[0]))\n",
        "\n",
        "df['difference'] = df['star_rating'] - df['avg_matched']\n",
        "\n",
        "ok = df[(df['difference'] <= 1.2) & (df['difference'] >= -1.2)]\n",
        "good_records = ok.shape[0]\n",
        "total_records = df_full.shape[0]\n",
        "\n",
        "print('\\trecords acceptable (max Delta ±1): {0} out of {1} ({2}%)'.format(good_records, total_records, round((good_records/total_records), 2)*100))\n",
        "\n",
        "#uncomment to download a csv file of the result\n",
        "#df['avg_rounded'] = round(df['avg_matched'])\n",
        "#df.to_csv('NLP_result.csv', sep='\\t' ,header=True, index = False)\n",
        "#files.download(\"NLP_result.csv\")"
      ],
      "execution_count": 7,
      "outputs": [
        {
          "output_type": "stream",
          "text": [
            "/usr/local/lib/python3.7/dist-packages/ipykernel_launcher.py:13: SettingWithCopyWarning: \n",
            "A value is trying to be set on a copy of a slice from a DataFrame.\n",
            "Try using .loc[row_indexer,col_indexer] = value instead\n",
            "\n",
            "See the caveats in the documentation: https://pandas.pydata.org/pandas-docs/stable/user_guide/indexing.html#returning-a-view-versus-a-copy\n",
            "  del sys.path[0]\n"
          ],
          "name": "stderr"
        },
        {
          "output_type": "display_data",
          "data": {
            "image/png": "[encoded data removed]",
            "text/plain": [
              "<Figure size 864x720 with 1 Axes>"
            ]
          },
          "metadata": {
            "tags": [],
            "needs_background": "light"
          }
        },
        {
          "output_type": "stream",
          "text": [
            "\n",
            "\tPearson correlation: 0.49522284015471746\n",
            "\trecords acceptable (max Delta ±1): 49098 out of 104852 (47.0%)\n"
          ],
          "name": "stdout"
        },
        {
          "output_type": "stream",
          "text": [
            "/usr/local/lib/python3.7/dist-packages/ipykernel_launcher.py:34: SettingWithCopyWarning: \n",
            "A value is trying to be set on a copy of a slice from a DataFrame.\n",
            "Try using .loc[row_indexer,col_indexer] = value instead\n",
            "\n",
            "See the caveats in the documentation: https://pandas.pydata.org/pandas-docs/stable/user_guide/indexing.html#returning-a-view-versus-a-copy\n"
          ],
          "name": "stderr"
        }
      ]
    },
    {
      "cell_type": "code",
      "metadata": {
        "id": "1t8BVzwTBbLv",
        "outputId": "8ffa7ba1-92d3-45ce-9f57-0b6251c03079",
        "colab": {
          "base_uri": "https://localhost:8080/",
          "height": 168
        }
      },
      "source": [
        "#query single records to crosscheck with pig scripts results\n",
        "test = df[(df['review_id'] == 'R8JDR5Z7YZQ')]\n",
        "test.head()\n"
      ],
      "execution_count": 10,
      "outputs": [
        {
          "output_type": "execute_result",
          "data": {
            "text/html": [
              "<div>\n",
              "<style scoped>\n",
              "    .dataframe tbody tr th:only-of-type {\n",
              "        vertical-align: middle;\n",
              "    }\n",
              "\n",
              "    .dataframe tbody tr th {\n",
              "        vertical-align: top;\n",
              "    }\n",
              "\n",
              "    .dataframe thead th {\n",
              "        text-align: right;\n",
              "    }\n",
              "</style>\n",
              "<table border=\"1\" class=\"dataframe\">\n",
              "  <thead>\n",
              "    <tr style=\"text-align: right;\">\n",
              "      <th></th>\n",
              "      <th>marketplace</th>\n",
              "      <th>customer_id</th>\n",
              "      <th>review_id</th>\n",
              "      <th>product_id</th>\n",
              "      <th>product_parent</th>\n",
              "      <th>product_title</th>\n",
              "      <th>product_category</th>\n",
              "      <th>star_rating</th>\n",
              "      <th>helpful_votes</th>\n",
              "      <th>total_votes</th>\n",
              "      <th>vine</th>\n",
              "      <th>verified_purchase</th>\n",
              "      <th>review_headline</th>\n",
              "      <th>review_body</th>\n",
              "      <th>review_date</th>\n",
              "      <th>matched</th>\n",
              "      <th>matched_rate</th>\n",
              "      <th>avg_matched</th>\n",
              "      <th>difference</th>\n",
              "    </tr>\n",
              "  </thead>\n",
              "  <tbody>\n",
              "    <tr>\n",
              "      <th>95943</th>\n",
              "      <td>US</td>\n",
              "      <td>42255609</td>\n",
              "      <td>R8JDR5Z7YZQ</td>\n",
              "      <td>B002WC58GK</td>\n",
              "      <td>487061669</td>\n",
              "      <td>Apple iPod Touch 3G Accessories. Premium Acces...</td>\n",
              "      <td>Mobile_Electronics</td>\n",
              "      <td>3.0</td>\n",
              "      <td>0.0</td>\n",
              "      <td>0.0</td>\n",
              "      <td>N</td>\n",
              "      <td>Y</td>\n",
              "      <td>Good Price but not as expected</td>\n",
              "      <td>The soft plastic protective case is OK but sli...</td>\n",
              "      <td>2010-04-15</td>\n",
              "      <td>4.0</td>\n",
              "      <td>4.0</td>\n",
              "      <td>3.222222</td>\n",
              "      <td>-0.222222</td>\n",
              "    </tr>\n",
              "  </tbody>\n",
              "</table>\n",
              "</div>"
            ],
            "text/plain": [
              "      marketplace  customer_id  ... avg_matched difference\n",
              "95943          US     42255609  ...    3.222222  -0.222222\n",
              "\n",
              "[1 rows x 19 columns]"
            ]
          },
          "metadata": {
            "tags": []
          },
          "execution_count": 10
        }
      ]
    }
  ]
}